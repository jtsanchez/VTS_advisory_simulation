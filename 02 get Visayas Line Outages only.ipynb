{
 "cells": [
  {
   "cell_type": "code",
   "execution_count": 1,
   "metadata": {},
   "outputs": [
    {
     "name": "stderr",
     "output_type": "stream",
     "text": [
      "c:\\Users\\jtsanchez\\Anaconda3\\lib\\site-packages\\numpy\\_distributor_init.py:30: UserWarning: loaded more than 1 DLL from .libs:\n",
      "c:\\Users\\jtsanchez\\Anaconda3\\lib\\site-packages\\numpy\\.libs\\libopenblas.WCDJNK7YVMPZQ2ME2ZZHJJRJ3JIKNDB7.gfortran-win_amd64.dll\n",
      "c:\\Users\\jtsanchez\\Anaconda3\\lib\\site-packages\\numpy\\.libs\\libopenblas64__v0.3.21-gcc_10_3_0.dll\n",
      "  warnings.warn(\"loaded more than 1 DLL from .libs:\"\n"
     ]
    }
   ],
   "source": [
    "import pandas as pd\n",
    "import re\n",
    "import numpy as np"
   ]
  },
  {
   "cell_type": "code",
   "execution_count": 2,
   "metadata": {},
   "outputs": [
    {
     "data": {
      "text/html": [
       "<div>\n",
       "<style scoped>\n",
       "    .dataframe tbody tr th:only-of-type {\n",
       "        vertical-align: middle;\n",
       "    }\n",
       "\n",
       "    .dataframe tbody tr th {\n",
       "        vertical-align: top;\n",
       "    }\n",
       "\n",
       "    .dataframe thead th {\n",
       "        text-align: right;\n",
       "    }\n",
       "</style>\n",
       "<table border=\"1\" class=\"dataframe\">\n",
       "  <thead>\n",
       "    <tr style=\"text-align: right;\">\n",
       "      <th></th>\n",
       "      <th>TIME_MESSAGE</th>\n",
       "      <th>MESSAGE</th>\n",
       "      <th>REGION</th>\n",
       "    </tr>\n",
       "  </thead>\n",
       "  <tbody>\n",
       "    <tr>\n",
       "      <th>0</th>\n",
       "      <td>2023-06-14 9:47:19 PM</td>\n",
       "      <td>Mindanao Grid-06/14/2023 21:48: WMPC DG01 cut-...</td>\n",
       "      <td>CMIN</td>\n",
       "    </tr>\n",
       "    <tr>\n",
       "      <th>1</th>\n",
       "      <td>2023-06-14 9:46:52 PM</td>\n",
       "      <td>Mindanao Grid-06/14/2023 21:48: WMPC DG01 cut-...</td>\n",
       "      <td>CMIN</td>\n",
       "    </tr>\n",
       "    <tr>\n",
       "      <th>2</th>\n",
       "      <td>2023-06-14 9:44:44 PM</td>\n",
       "      <td>Mindanao Grid-06/14/2023 21:45: WMPC DG05 cut-...</td>\n",
       "      <td>CMIN</td>\n",
       "    </tr>\n",
       "    <tr>\n",
       "      <th>3</th>\n",
       "      <td>2023-06-14 9:44:18 PM</td>\n",
       "      <td>Mindanao Grid-06/14/2023 21:45: WMPC DG05 cut-...</td>\n",
       "      <td>CMIN</td>\n",
       "    </tr>\n",
       "    <tr>\n",
       "      <th>4</th>\n",
       "      <td>2023-06-14 9:29:17 PM</td>\n",
       "      <td>Mindanao Grid-06/14/2023 21:29: WMPC DG07 cut-...</td>\n",
       "      <td>CMIN</td>\n",
       "    </tr>\n",
       "    <tr>\n",
       "      <th>...</th>\n",
       "      <td>...</td>\n",
       "      <td>...</td>\n",
       "      <td>...</td>\n",
       "    </tr>\n",
       "    <tr>\n",
       "      <th>21156</th>\n",
       "      <td>2021-12-11 1:24:00 PM</td>\n",
       "      <td>VRCC-12/11/2021 09:21: 34.5 KV CARCON -  Sangi...</td>\n",
       "      <td>CVIS</td>\n",
       "    </tr>\n",
       "    <tr>\n",
       "      <th>21157</th>\n",
       "      <td>2021-12-11 1:24:00 PM</td>\n",
       "      <td>VRCC-12/11/2021 13:00: GRID UPDATE AS OF 1:00 ...</td>\n",
       "      <td>CVIS</td>\n",
       "    </tr>\n",
       "    <tr>\n",
       "      <th>21158</th>\n",
       "      <td>2021-12-11 1:23:00 PM</td>\n",
       "      <td>LRCC-12/11/2021 12:53: GRID UPDATE AS OF 1:00 ...</td>\n",
       "      <td>CLUZ</td>\n",
       "    </tr>\n",
       "    <tr>\n",
       "      <th>21159</th>\n",
       "      <td>2021-12-11 1:22:00 PM</td>\n",
       "      <td>LRCC-12/11/2021 09:04: Tayabas-Mauban 230kV Li...</td>\n",
       "      <td>CLUZ</td>\n",
       "    </tr>\n",
       "    <tr>\n",
       "      <th>21160</th>\n",
       "      <td>2021-12-11 1:22:00 PM</td>\n",
       "      <td>LRCC-12/11/2021 10:29: Dasmarinas-MEC-Rosario ...</td>\n",
       "      <td>CLUZ</td>\n",
       "    </tr>\n",
       "  </tbody>\n",
       "</table>\n",
       "<p>21161 rows × 3 columns</p>\n",
       "</div>"
      ],
      "text/plain": [
       "                TIME_MESSAGE   \n",
       "0      2023-06-14 9:47:19 PM  \\\n",
       "1      2023-06-14 9:46:52 PM   \n",
       "2      2023-06-14 9:44:44 PM   \n",
       "3      2023-06-14 9:44:18 PM   \n",
       "4      2023-06-14 9:29:17 PM   \n",
       "...                      ...   \n",
       "21156  2021-12-11 1:24:00 PM   \n",
       "21157  2021-12-11 1:24:00 PM   \n",
       "21158  2021-12-11 1:23:00 PM   \n",
       "21159  2021-12-11 1:22:00 PM   \n",
       "21160  2021-12-11 1:22:00 PM   \n",
       "\n",
       "                                                 MESSAGE REGION  \n",
       "0      Mindanao Grid-06/14/2023 21:48: WMPC DG01 cut-...   CMIN  \n",
       "1      Mindanao Grid-06/14/2023 21:48: WMPC DG01 cut-...   CMIN  \n",
       "2      Mindanao Grid-06/14/2023 21:45: WMPC DG05 cut-...   CMIN  \n",
       "3      Mindanao Grid-06/14/2023 21:45: WMPC DG05 cut-...   CMIN  \n",
       "4      Mindanao Grid-06/14/2023 21:29: WMPC DG07 cut-...   CMIN  \n",
       "...                                                  ...    ...  \n",
       "21156  VRCC-12/11/2021 09:21: 34.5 KV CARCON -  Sangi...   CVIS  \n",
       "21157  VRCC-12/11/2021 13:00: GRID UPDATE AS OF 1:00 ...   CVIS  \n",
       "21158  LRCC-12/11/2021 12:53: GRID UPDATE AS OF 1:00 ...   CLUZ  \n",
       "21159  LRCC-12/11/2021 09:04: Tayabas-Mauban 230kV Li...   CLUZ  \n",
       "21160  LRCC-12/11/2021 10:29: Dasmarinas-MEC-Rosario ...   CLUZ  \n",
       "\n",
       "[21161 rows x 3 columns]"
      ]
     },
     "execution_count": 2,
     "metadata": {},
     "output_type": "execute_result"
    }
   ],
   "source": [
    "df = pd.read_csv('SO_ADV_data (7).csv')\n",
    "df\n"
   ]
  },
  {
   "attachments": {},
   "cell_type": "markdown",
   "metadata": {},
   "source": [
    "### Remove duplicates"
   ]
  },
  {
   "cell_type": "code",
   "execution_count": 3,
   "metadata": {},
   "outputs": [
    {
     "data": {
      "text/plain": [
       "0        False\n",
       "1         True\n",
       "2        False\n",
       "3         True\n",
       "4        False\n",
       "         ...  \n",
       "21156    False\n",
       "21157    False\n",
       "21158    False\n",
       "21159    False\n",
       "21160    False\n",
       "Length: 21161, dtype: bool"
      ]
     },
     "execution_count": 3,
     "metadata": {},
     "output_type": "execute_result"
    }
   ],
   "source": [
    "#remove duplicates\n",
    "\n",
    "df.duplicated(subset=['MESSAGE'])"
   ]
  },
  {
   "cell_type": "code",
   "execution_count": 4,
   "metadata": {},
   "outputs": [],
   "source": [
    "df.drop_duplicates(subset='MESSAGE', inplace=True)"
   ]
  },
  {
   "cell_type": "code",
   "execution_count": 5,
   "metadata": {},
   "outputs": [
    {
     "data": {
      "text/plain": [
       "False    14630\n",
       "Name: count, dtype: int64"
      ]
     },
     "execution_count": 5,
     "metadata": {},
     "output_type": "execute_result"
    }
   ],
   "source": [
    "df.duplicated(subset=['MESSAGE']).value_counts()"
   ]
  },
  {
   "attachments": {},
   "cell_type": "markdown",
   "metadata": {},
   "source": [
    "### Keyword detection"
   ]
  },
  {
   "cell_type": "code",
   "execution_count": 6,
   "metadata": {},
   "outputs": [],
   "source": [
    "#keyword lists\n",
    "    \n",
    "outage_keywords = [\n",
    "\"shut down\", \"shutdown\", \"out\", \"outage\",\n",
    "\"desynchronize\", \"shut\", \"out\", \"planned outage\", \"trip\", \"tripping\", \"tripped\",\n",
    "\"offline\", \"unavailable\", \"energize\", \"de-energize\",\"de-energized\", \"emergency\"\n",
    "'failed to synchronized','failed to synchronize'\n",
    "] \n",
    "\n",
    "\n",
    "restoration_keywords=[\n",
    "'online', 'on-line' 'energize', 'restored', \"sync\",\"synchronize\", \n",
    "\"synchronized\", 're-energized', 're energize', 're-energize', 'energization'\n",
    "]\n",
    "\n",
    "\n",
    "#derated_keywords=['derated'] #i others na lang to\n",
    "#note: cut-in/cut-out - reserve/ RPS- classify as other\n",
    "\n"
   ]
  },
  {
   "cell_type": "code",
   "execution_count": 7,
   "metadata": {},
   "outputs": [
    {
     "data": {
      "text/html": [
       "<div>\n",
       "<style scoped>\n",
       "    .dataframe tbody tr th:only-of-type {\n",
       "        vertical-align: middle;\n",
       "    }\n",
       "\n",
       "    .dataframe tbody tr th {\n",
       "        vertical-align: top;\n",
       "    }\n",
       "\n",
       "    .dataframe thead th {\n",
       "        text-align: right;\n",
       "    }\n",
       "</style>\n",
       "<table border=\"1\" class=\"dataframe\">\n",
       "  <thead>\n",
       "    <tr style=\"text-align: right;\">\n",
       "      <th></th>\n",
       "      <th>TIME_MESSAGE</th>\n",
       "      <th>MESSAGE</th>\n",
       "      <th>REGION</th>\n",
       "      <th>MESSAGE TYPE</th>\n",
       "    </tr>\n",
       "  </thead>\n",
       "  <tbody>\n",
       "    <tr>\n",
       "      <th>0</th>\n",
       "      <td>2023-06-14 9:47:19 PM</td>\n",
       "      <td>Mindanao Grid-06/14/2023 21:48: WMPC DG01 cut-...</td>\n",
       "      <td>CMIN</td>\n",
       "      <td>outage</td>\n",
       "    </tr>\n",
       "    <tr>\n",
       "      <th>2</th>\n",
       "      <td>2023-06-14 9:44:44 PM</td>\n",
       "      <td>Mindanao Grid-06/14/2023 21:45: WMPC DG05 cut-...</td>\n",
       "      <td>CMIN</td>\n",
       "      <td>outage</td>\n",
       "    </tr>\n",
       "    <tr>\n",
       "      <th>4</th>\n",
       "      <td>2023-06-14 9:29:17 PM</td>\n",
       "      <td>Mindanao Grid-06/14/2023 21:29: WMPC DG07 cut-...</td>\n",
       "      <td>CMIN</td>\n",
       "      <td>outage</td>\n",
       "    </tr>\n",
       "    <tr>\n",
       "      <th>6</th>\n",
       "      <td>2023-06-14 8:59:30 PM</td>\n",
       "      <td>Mindanao Grid-06/14/2023 21:00: Sibulan Hedcor...</td>\n",
       "      <td>CMIN</td>\n",
       "      <td>restoration</td>\n",
       "    </tr>\n",
       "    <tr>\n",
       "      <th>7</th>\n",
       "      <td>2023-06-14 8:55:57 PM</td>\n",
       "      <td>Mindanao Grid-06/14/2023 20:56: Sibulan Hedcor...</td>\n",
       "      <td>CMIN</td>\n",
       "      <td>outage</td>\n",
       "    </tr>\n",
       "    <tr>\n",
       "      <th>...</th>\n",
       "      <td>...</td>\n",
       "      <td>...</td>\n",
       "      <td>...</td>\n",
       "      <td>...</td>\n",
       "    </tr>\n",
       "    <tr>\n",
       "      <th>21156</th>\n",
       "      <td>2021-12-11 1:24:00 PM</td>\n",
       "      <td>VRCC-12/11/2021 09:21: 34.5 KV CARCON -  Sangi...</td>\n",
       "      <td>CVIS</td>\n",
       "      <td>outage</td>\n",
       "    </tr>\n",
       "    <tr>\n",
       "      <th>21157</th>\n",
       "      <td>2021-12-11 1:24:00 PM</td>\n",
       "      <td>VRCC-12/11/2021 13:00: GRID UPDATE AS OF 1:00 ...</td>\n",
       "      <td>CVIS</td>\n",
       "      <td>other</td>\n",
       "    </tr>\n",
       "    <tr>\n",
       "      <th>21158</th>\n",
       "      <td>2021-12-11 1:23:00 PM</td>\n",
       "      <td>LRCC-12/11/2021 12:53: GRID UPDATE AS OF 1:00 ...</td>\n",
       "      <td>CLUZ</td>\n",
       "      <td>other</td>\n",
       "    </tr>\n",
       "    <tr>\n",
       "      <th>21159</th>\n",
       "      <td>2021-12-11 1:22:00 PM</td>\n",
       "      <td>LRCC-12/11/2021 09:04: Tayabas-Mauban 230kV Li...</td>\n",
       "      <td>CLUZ</td>\n",
       "      <td>outage</td>\n",
       "    </tr>\n",
       "    <tr>\n",
       "      <th>21160</th>\n",
       "      <td>2021-12-11 1:22:00 PM</td>\n",
       "      <td>LRCC-12/11/2021 10:29: Dasmarinas-MEC-Rosario ...</td>\n",
       "      <td>CLUZ</td>\n",
       "      <td>outage</td>\n",
       "    </tr>\n",
       "  </tbody>\n",
       "</table>\n",
       "<p>14630 rows × 4 columns</p>\n",
       "</div>"
      ],
      "text/plain": [
       "                TIME_MESSAGE   \n",
       "0      2023-06-14 9:47:19 PM  \\\n",
       "2      2023-06-14 9:44:44 PM   \n",
       "4      2023-06-14 9:29:17 PM   \n",
       "6      2023-06-14 8:59:30 PM   \n",
       "7      2023-06-14 8:55:57 PM   \n",
       "...                      ...   \n",
       "21156  2021-12-11 1:24:00 PM   \n",
       "21157  2021-12-11 1:24:00 PM   \n",
       "21158  2021-12-11 1:23:00 PM   \n",
       "21159  2021-12-11 1:22:00 PM   \n",
       "21160  2021-12-11 1:22:00 PM   \n",
       "\n",
       "                                                 MESSAGE REGION MESSAGE TYPE  \n",
       "0      Mindanao Grid-06/14/2023 21:48: WMPC DG01 cut-...   CMIN       outage  \n",
       "2      Mindanao Grid-06/14/2023 21:45: WMPC DG05 cut-...   CMIN       outage  \n",
       "4      Mindanao Grid-06/14/2023 21:29: WMPC DG07 cut-...   CMIN       outage  \n",
       "6      Mindanao Grid-06/14/2023 21:00: Sibulan Hedcor...   CMIN  restoration  \n",
       "7      Mindanao Grid-06/14/2023 20:56: Sibulan Hedcor...   CMIN       outage  \n",
       "...                                                  ...    ...          ...  \n",
       "21156  VRCC-12/11/2021 09:21: 34.5 KV CARCON -  Sangi...   CVIS       outage  \n",
       "21157  VRCC-12/11/2021 13:00: GRID UPDATE AS OF 1:00 ...   CVIS        other  \n",
       "21158  LRCC-12/11/2021 12:53: GRID UPDATE AS OF 1:00 ...   CLUZ        other  \n",
       "21159  LRCC-12/11/2021 09:04: Tayabas-Mauban 230kV Li...   CLUZ       outage  \n",
       "21160  LRCC-12/11/2021 10:29: Dasmarinas-MEC-Rosario ...   CLUZ       outage  \n",
       "\n",
       "[14630 rows x 4 columns]"
      ]
     },
     "execution_count": 7,
     "metadata": {},
     "output_type": "execute_result"
    }
   ],
   "source": [
    "keyword_lists = {'restoration': restoration_keywords,'outage': outage_keywords}  \n",
    "                    #i put \"restoration\" first coz restoration updates also contain outage keywords\n",
    "\n",
    "def get_matched_list(message):\n",
    "    for name, keywords in keyword_lists.items():\n",
    "        if any(re.search(fr'\\b{re.escape(keyword)}\\b', message, flags=re.IGNORECASE) for keyword in keywords):\n",
    "            return name\n",
    "    return \"other\"  # if no match\n",
    "\n",
    "\n",
    "df['MESSAGE TYPE'] = df['MESSAGE'].str.lower().apply(get_matched_list)\n",
    "\n",
    "\n",
    "df"
   ]
  },
  {
   "cell_type": "code",
   "execution_count": 8,
   "metadata": {},
   "outputs": [],
   "source": [
    "# then add if line/plant/transformer update (Gelo code)\n",
    "\n",
    "line_pattern = r\"(?<!\\bon[-\\s])\\bline\\b(?![-\\s]on\\b)\" # regex to exclude \"on line\" and \"on-line\"\n",
    "\n",
    "\n",
    "# Create a new column 'Category' to classify the message\n",
    "df['CATEGORY'] = np.where(df['MESSAGE'].str.contains(r\"\\d+\\s*MW\"), \"plant\",\n",
    "                                    np.where(df['MESSAGE'].str.contains(r\"\\d+\\s*MVA\"), \"transformer\",\n",
    "                                             np.where(df['MESSAGE'].str.contains(r\"\\d+\\s*kV\"), \"line\",\n",
    "                                                      np.where(df['MESSAGE'].str.contains(r\"transformer\", case=False), \"transformer\",\n",
    "                                                               np.where(df['MESSAGE'].str.contains(line_pattern, case=False), \"line\", # modified to exclude \"on line\" and \"on-line\"\n",
    "                                                                        np.where(df['MESSAGE'].str.contains('weather', case=False),'weather','plant'))))))"
   ]
  },
  {
   "cell_type": "code",
   "execution_count": 9,
   "metadata": {},
   "outputs": [],
   "source": [
    "df.to_csv('with message type.csv', index=False)"
   ]
  }
 ],
 "metadata": {
  "kernelspec": {
   "display_name": "base",
   "language": "python",
   "name": "python3"
  },
  "language_info": {
   "codemirror_mode": {
    "name": "ipython",
    "version": 3
   },
   "file_extension": ".py",
   "mimetype": "text/x-python",
   "name": "python",
   "nbconvert_exporter": "python",
   "pygments_lexer": "ipython3",
   "version": "3.9.12"
  },
  "orig_nbformat": 4
 },
 "nbformat": 4,
 "nbformat_minor": 2
}
